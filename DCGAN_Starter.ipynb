{
  "cells": [
    {
      "cell_type": "markdown",
      "metadata": {
        "id": "wU8DDM6l9rZb"
      },
      "source": [
        "\n",
        "<div dir='rtl'>\n",
        "یک تابع نمایش‌دهنده (visualizer) برای کمک به مشاهده تصاویری که DCGAN  ایجاد خواهد کرد، در اختیار شما قرار داده شده است.\n",
        "</div>"
      ]
    },
    {
      "cell_type": "code",
      "execution_count": null,
      "metadata": {
        "id": "JfkorNJrnmNO"
      },
      "outputs": [],
      "source": [
        "import torch\n",
        "from torch import nn\n",
        "from torchvision import transforms\n",
        "from torchvision.utils import make_grid\n",
        "from torch.utils.data import DataLoader\n",
        "import matplotlib.pyplot as plt\n",
        "from tqdm.auto import tqdm\n",
        "from torchvision.datasets import MNIST\n",
        "torch.manual_seed(0)\n",
        "\n",
        "\n",
        "def visualize_images(tensor_images, image_count=25, img_size=(1, 28, 28)):\n",
        "    '''\n",
        "    Function for visualizing images: Given a tensor of images, number of images, and\n",
        "    size per image, plots and prints the images in a uniform grid.\n",
        "    '''\n",
        "    tensor_images = (tensor_images + 1) / 2\n",
        "    detached_images = tensor_images.detach().cpu()\n",
        "    grid_images = make_grid(detached_images[:image_count], nrow=5)\n",
        "    plt.imshow(grid_images.permute(1, 2, 0).squeeze())\n",
        "    plt.show()"
      ]
    },
    {
      "cell_type": "markdown",
      "metadata": {
        "id": "P1A1M6kpnfxw"
      },
      "source": [
        "## Generator\n",
        "<div dir='rtl'>\n",
        "اولین بخشی که ایجاد خواهید کرد، مولد (generator) است. به جای وارد کردن ابعاد تصویر، تعداد کانال‌های تصویر را به مولد می‌دهید. این به این دلیل است که در DCGAN از کانولوشن‌ها استفاده می‌شود که به تعداد پیکسل‌های تصویر وابسته نیستند، اما تعداد کانال‌ها برای تعیین اندازه فیلترها مهم است.\n",
        "شما یک مولد با ۴ بلوک  (3 بلوک پنهان و یک بلوک خروجی) خواهید ساخت. باید یک تابع بنویسید که یک بلوک واحد برای شبکه عصبی مولد ایجاد کند.\n",
        "در انتهای کلاس مولد، یک تابع (forward pass) وجود دارد که یک بردار نویز می‌گیرد و با استفاده از شبکه عصبی شما، تصویری با ابعاد خروجی تولید می‌کند. همچنین یک تابع نیز باید برای ایجاد بردار نویز ایجاد کنید\n",
        "این کد شامل تعریف یک کلاس مولد (Generator) برای یک شبکه عصبی مولد تقابلی (GAN) است. وظیفه مولد تولید تصاویر جعلی از بردارهای نویز است. شما باید بخش‌های خالی کد را بر اساس توضیحات زیر تکمیل کنید:\n",
        "### کلاس Generator:\n",
        "\n",
        "#### مقادیر اولیه:\n",
        "- `z_dim`: ابعاد بردار نویز.\n",
        "- `im_chan`: تعداد کانال‌های تصویر خروجی (برای MNIST، این مقدار 1 است).\n",
        "- `hidden_dim`: ابعاد داخلی شبکه.\n",
        "\n",
        "#### تابع `gen_block`:\n",
        "\n",
        "- این تابع یک بلوک مولد را ایجاد می‌کند که شامل یک کانولوشن ترانهاده (transposed convolution)، نرمال‌سازی بچ (batch normalization) و فعال‌سازی (activation) است.\n",
        "- اگر `final_layer` برابر با `True` باشد، باید به جای نرمال‌سازی بچ و ReLU از فعال‌سازی Tanh استفاده کنید.\n",
        "\n",
        "#### تابع `unsqueeze_noise`:\n",
        "\n",
        "- این تابع بردار نویز را به یک تنسور با ابعاد `(n_samples, z_dim, 1, 1)` تبدیل می‌کند.\n",
        "\n",
        "#### تابع `forward`:\n",
        "\n",
        "- این تابع عبور رو به جلو (forward pass) مولد را انجام می‌دهد: نویز ورودی را گرفته و تصاویر تولید شده را برمی‌گرداند.\n",
        "\n",
        "#### تابع `sample_noise`:\n",
        "\n",
        "- این تابع بردارهای نویز تصادفی ایجاد می‌کند.\n",
        "\n",
        "بر اساس توضیحات بالا، بخش‌های خالی کد را تکمیل کنید.\n",
        "\n",
        "\n",
        "</div>\n"
      ]
    },
    {
      "cell_type": "code",
      "execution_count": null,
      "metadata": {
        "id": "EvO7h0LYnEJZ"
      },
      "outputs": [],
      "source": [
        "\n",
        "class Generator(nn.Module):\n",
        "\n",
        "    def __init__(self, z_dim=10, im_chan=1, hidden_dim=64):\n",
        "        super(Generator, self).__init__()\n",
        "        self.z_dim = z_dim\n",
        "        # Build the GENERATOR neural network\n",
        "         #### START CODE HERE ####\n",
        "         self.gen=\n",
        "         #### END CODE HERE ####\n",
        "\n",
        "    def gen_block(self, input_channels, output_channels, kernel_size=3, stride=2, final_layer=False):\n",
        "\n",
        "\n",
        "        # Build the neural block\n",
        "        if not final_layer:\n",
        "            return nn.Sequential(\n",
        "                #### START CODE HERE ####\n",
        "\n",
        "                #### END CODE HERE ####\n",
        "            )\n",
        "        else: # Final Layer\n",
        "            return nn.Sequential(\n",
        "                #### START CODE HERE ####\n",
        "\n",
        "                #### END CODE HERE ####\n",
        "            )\n",
        "\n",
        "    def unsqueeze_noise(self, noise):\n",
        "\n",
        "        #### START CODE HERE ####\n",
        "        # تبدیل بردار نویز به تنسوری با ابعاد (n_samples, z_dim, 1, 1)\n",
        "        #### END CODE HERE ####\n",
        "\n",
        "    def forward(self, noise):\n",
        "        '''\n",
        "        Function for completing a forward pass of the generator: Given a noise tensor,\n",
        "        returns generated images.\n",
        "        '''\n",
        "        #### START CODE HERE ####\n",
        "        # استفاده از تابع unsqueeze_noise برای تغییر شکل نویز\n",
        "        # استفاده از شبکه عصبی مولد برای تولید تصاویر\n",
        "        #### END CODE HERE ####\n",
        "\n",
        "def sample_noise(n_samples, z_dim, device='cpu'):\n",
        "\n",
        "\n",
        "   #### START CODE HERE ####\n",
        "    # ایجاد یک تنسور با اعداد تصادفی از توزیع نرمال\n",
        "    #### END CODE HERE ####\n"
      ]
    },
    {
      "cell_type": "markdown",
      "metadata": {
        "id": "r9fScH98nkYH"
      },
      "source": [
        "## Discriminator\n",
        "<div dir='rtl'>\n",
        "این کد شامل تعریف یک کلاس متمایزکننده (Discriminator) برای یک شبکه عصبی مولد تقابلی (GAN) است. وظیفه متمایزکننده تشخیص تصاویر واقعی از تصاویر جعلی است. شما باید بخش‌های خالی کد را بر اساس توضیحات زیر تکمیل کنید:\n",
        "\n",
        "### کلاس Discriminator:\n",
        "\n",
        "#### مقادیر اولیه:\n",
        "- `input_channel`: تعداد کانال‌های تصویر ورودی (برای MNIST، این مقدار 1 است).\n",
        "- `hidden_dim`: ابعاد داخلی شبکه.\n",
        "\n",
        "#### تابع `make_disc_block`:\n",
        "\n",
        "- این تابع یک بلوک متمایزکننده را ایجاد می‌کند که شامل یک کانولوشن (convolution)، نرمال‌سازی بچ (batch normalization) و فعال‌سازی (activation) است.\n",
        "- اگر `final_layer` برابر با `True` باشد، فقط از کانولوشن استفاده کنید و نرمال‌سازی بچ و LeakyReLU را حذف کنید.\n",
        "\n",
        "#### تابع `forward`:\n",
        "\n",
        "- این تابع عبور رو به جلو (forward pass) متمایزکننده را انجام می‌دهد: تصویر ورودی را گرفته و یک تنسور 1-بعدی که نمایانگر واقعی/جعلی بودن تصویر است را برمی‌گرداند.\n",
        "\n",
        "</div>\n"
      ]
    },
    {
      "cell_type": "code",
      "source": [
        "\n",
        "class Discriminator(nn.Module):\n",
        "\n",
        "    def __init__(self, input_channel=1, hidden_dim=16):\n",
        "        super(Discriminator, self).__init__()\n",
        "\n",
        "\n",
        "        self.disc = nn.Sequential(\n",
        "            self.dis_block(input_channel, hidden_dim),\n",
        "            self.dis_block(hidden_dim, hidden_dim * 2),\n",
        "            self.dis_block(hidden_dim * 2, 1, final_layer=True),\n",
        "        )\n",
        "\n",
        "    def dis_block(self, input_channels, output_channels, kernel_size=4, stride=2, final_layer=False):\n",
        "\n",
        "\n",
        "        # Build the neural block\n",
        "        if not final_layer:\n",
        "            return nn.Sequential(\n",
        "                #### START CODE HERE ####\n",
        "\n",
        "                #### END CODE HERE ####\n",
        "            )\n",
        "        else: # Final Layer\n",
        "            return nn.Sequential(\n",
        "                #### START CODE HERE ####\n",
        "\n",
        "                #### END CODE HERE ####\n",
        "            )\n",
        "\n",
        "    def forward(self, image):\n",
        "\n",
        "        #### START CODE HERE ####\n",
        "\n",
        "\n",
        "        #### END CODE HERE ####\n"
      ],
      "metadata": {
        "id": "OqSLcwONVUpq"
      },
      "execution_count": null,
      "outputs": []
    },
    {
      "cell_type": "code",
      "execution_count": null,
      "metadata": {
        "id": "IFLQ039u-qdu"
      },
      "outputs": [],
      "source": [
        "\n",
        "\n",
        "# تعریف معیار خطا (loss function)\n",
        "criterion = nn.BCEWithLogitsLoss()\n",
        "\n",
        "# تعریف پارامترهای اولیه\n",
        "z_dim = 64\n",
        "display_step = 500\n",
        "batch_size = 128\n",
        "lr = 0.0002\n",
        "\n",
        "#   پارامترهای مربوط به مومنتوم\n",
        "beta_1 = 0.5\n",
        "beta_2 = 0.999\n",
        "device = 'cuda'\n",
        "\n",
        "# تعریف تبدیل برای نرمال‌سازی تصاویر\n",
        "transform = transforms.Compose([\n",
        "    transforms.ToTensor(),\n",
        "    transforms.Normalize((0.5,), (0.5,)),\n",
        "])\n",
        "\n",
        "# ایجاد DataLoader برای دیتاست MNIST\n",
        "dataloader = DataLoader(\n",
        "    MNIST('.', download=True, transform=transform),\n",
        "    batch_size=batch_size,\n",
        "    shuffle=True\n",
        ")\n",
        "\n",
        "\n",
        "\n"
      ]
    },
    {
      "cell_type": "markdown",
      "metadata": {
        "id": "24Var22i_Ccs"
      },
      "source": [
        "<div dir='rtl'>\n",
        "  مولد (generator)، متمایزکننده (discriminator)، و بهینه‌سازها (optimizers) را مقداردهی اولیه کنید.\n",
        "بهینه ساز را از نوع Adam  با پارامترهای سلول های قبل تعریف نمایید\n",
        "</div>"
      ]
    },
    {
      "cell_type": "code",
      "source": [
        "\n",
        "   #### START CODE HERE ####\n",
        "gen =\n",
        "gen_opt=\n",
        "\n",
        "disc=\n",
        "disc_opt=\n",
        "#### END CODE HERE ####"
      ],
      "metadata": {
        "id": "2SZHPFzxY3GI"
      },
      "execution_count": null,
      "outputs": []
    },
    {
      "cell_type": "markdown",
      "source": [
        "<div dir='rtl'>\n",
        "# اعمال مقداردهی اولیه وزن‌ها به تمام لایه‌های Generator , Discriminator\n",
        "</div>"
      ],
      "metadata": {
        "id": "0aDlrlqNakjg"
      }
    },
    {
      "cell_type": "code",
      "execution_count": null,
      "metadata": {
        "id": "sDFRZ8tg_Y57"
      },
      "outputs": [],
      "source": [
        "\n",
        "\n",
        "# تابعی برای مقداردهی اولیه وزن‌ها به توزیع نرمال با میانگین 0 و انحراف معیار 0.02\n",
        "def initialize_weights(layer):\n",
        "    # اگر لایه یک لایه Conv2d یا ConvTranspose2d باشد\n",
        "    if isinstance(layer, nn.Conv2d) or isinstance(layer, nn.ConvTranspose2d):\n",
        "        torch.nn.init.normal_(layer.weight, mean=0.0, std=0.02)  # مقداردهی اولیه وزن‌ها به توزیع نرمال\n",
        "    # اگر لایه یک لایه BatchNorm2d باشد\n",
        "    elif isinstance(layer, nn.BatchNorm2d):\n",
        "        torch.nn.init.normal_(layer.weight, mean=0.0, std=0.02)  # مقداردهی اولیه وزن‌ها به توزیع نرمال\n",
        "        torch.nn.init.constant_(layer.bias, 0)  # مقداردهی اولیه بایاس‌ها به مقدار ثابت 0\n",
        "\n",
        "# اعمال مقداردهی اولیه وزن‌ها به تمام لایه‌های مولد\n",
        "gen.apply(initialize_weights)\n",
        "# اعمال مقداردهی اولیه وزن‌ها به تمام لایه‌های متمایزکننده\n",
        "disc.apply(initialize_weights)\n"
      ]
    },
    {
      "cell_type": "markdown",
      "source": [
        "<div dir='rtl'>\n",
        "آموزش GAN را تکمیل نمایید\n",
        "\n",
        "1. متمایزکننده (discriminator) را به‌روزرسانی کنید:\n",
        "    - مقدار گرادیان‌ها را صفر کنید.\n",
        "    - نویز جعلی (fake noise) تولید کنید و از مولد (generator) برای تولید تصاویر جعلی استفاده کنید.\n",
        "    - پیش‌بینی متمایزکننده برای تصاویر جعلی و واقعی را محاسبه کنید.\n",
        "    - هزینه متمایزکننده (discriminator loss) را محاسبه و گرادیان‌ها را به‌روزرسانی کنید.\n",
        "2. مولد (generator) را به‌روزرسانی کنید:\n",
        "    - مقدار گرادیان‌ها را صفر کنید.\n",
        "    - نویز جعلی جدید تولید کنید و تصاویر جعلی جدید تولید کنید.\n",
        "    - پیش‌بینی متمایزکننده برای تصاویر جعلی جدید را محاسبه کنید.\n",
        "    - هزینه مولد (generator loss) را محاسبه و گرادیان‌ها را به‌روزرسانی کنید.\n",
        "6. هر چند مرحله نتایج را نمایش دهید.\n",
        "\n",
        "</div>"
      ],
      "metadata": {
        "id": "rFT_sVbJf7se"
      }
    },
    {
      "cell_type": "code",
      "execution_count": null,
      "metadata": {
        "id": "UXptQZcwrBrq"
      },
      "outputs": [],
      "source": [
        "n_epochs = 50\n",
        "cur_step = 0\n",
        "mean_generator_loss = 0\n",
        "mean_discriminator_loss = 0\n",
        "for epoch in range(n_epochs):\n",
        "    # Dataloader returns the batches\n",
        "    for real, _ in tqdm(dataloader):\n",
        "        cur_batch_size = len(real)\n",
        "        real = real.to(device)\n",
        "\n",
        "        ## Update discriminator ##\n",
        "        disc_opt.zero_grad()\n",
        "        fake_noise =sample_noise(cur_batch_size, z_dim, device=device)\n",
        "        fake =\n",
        "        disc_fake_pred =\n",
        "        disc_real_pred =\n",
        "        disc_fake_loss =\n",
        "        disc_real_loss =\n",
        "        disc_loss = (disc_fake_loss + disc_real_loss) / 2\n",
        "\n",
        "        # Keep track of the average discriminator loss\n",
        "        mean_discriminator_loss += disc_loss.item() / display_step\n",
        "        # Update gradients\n",
        "        disc_loss.backward(retain_graph=True)\n",
        "        # Update optimizer\n",
        "        disc_opt.step()\n",
        "\n",
        "\n",
        "\n",
        "        ## Update generator ##\n",
        "        gen_opt.zero_grad()\n",
        "        fake_noise_2 = sample_noise(cur_batch_size, z_dim, device=device)\n",
        "        fake_2 =\n",
        "        disc_fake_pred =\n",
        "        gen_loss =\n",
        "        gen_loss.backward()\n",
        "        gen_opt.step()\n",
        "\n",
        "        # Keep track of the average generator loss\n",
        "        mean_generator_loss += gen_loss.item() / display_step\n",
        "\n",
        "        ## Visualization code ##\n",
        "        if cur_step % display_step == 0 and cur_step > 0:\n",
        "            print(f\"Step {cur_step}: Generator loss: {mean_generator_loss}, discriminator loss: {mean_discriminator_loss}\")\n",
        "            visualize_images(fake)\n",
        "            visualize_images(real)\n",
        "            mean_generator_loss = 0\n",
        "            mean_discriminator_loss = 0\n",
        "        cur_step += 1\n"
      ]
    },
    {
      "cell_type": "code",
      "execution_count": null,
      "metadata": {
        "id": "sCtztt8XycEH"
      },
      "outputs": [],
      "source": []
    }
  ],
  "metadata": {
    "accelerator": "GPU",
    "colab": {
      "provenance": []
    },
    "coursera": {
      "schema_names": [
        "GANSC1-2A"
      ]
    },
    "kernelspec": {
      "display_name": "Python 3",
      "language": "python",
      "name": "python3"
    },
    "language_info": {
      "codemirror_mode": {
        "name": "ipython",
        "version": 3
      },
      "file_extension": ".py",
      "mimetype": "text/x-python",
      "name": "python",
      "nbconvert_exporter": "python",
      "pygments_lexer": "ipython3",
      "version": "3.6.9"
    }
  },
  "nbformat": 4,
  "nbformat_minor": 0
}